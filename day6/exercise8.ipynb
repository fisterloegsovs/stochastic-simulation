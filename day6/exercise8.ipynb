{
 "cells": [
  {
   "cell_type": "markdown",
   "id": "cd11c0e4",
   "metadata": {},
   "source": [
    "# Exercise 8\n"
   ]
  },
  {
   "cell_type": "code",
   "execution_count": 8,
   "id": "7a52ce08",
   "metadata": {},
   "outputs": [],
   "source": [
    "import numpy as np"
   ]
  },
  {
   "cell_type": "code",
   "execution_count": 9,
   "id": "c85417bc",
   "metadata": {},
   "outputs": [],
   "source": [
    "# quick helper to bootstrap any statistic\n",
    "def get_bootstrap(data, func, n_rep=5000):\n",
    "    n = len(data)\n",
    "    reps = np.empty(n_rep)\n",
    "    for i in range(n_rep):\n",
    "        samp = np.random.choice(data, size=n, replace=True)\n",
    "        reps[i] = func(samp)\n",
    "    return reps"
   ]
  },
  {
   "cell_type": "code",
   "execution_count": 10,
   "id": "5fc81fdc",
   "metadata": {},
   "outputs": [],
   "source": [
    "# Exercise 13: estimate P(a < mean - mu < b)\n",
    "def solve_ex13(vals, a=-5, b=5, reps=5000):\n",
    "    arr = np.array(vals)\n",
    "    # use sample mean as stand-in for true mu\n",
    "    mu_est = arr.mean()\n",
    "    # bootstrap means\n",
    "    bs_means = get_bootstrap(arr, np.mean, reps)\n",
    "    # center and check bounds\n",
    "    diffs = bs_means - mu_est\n",
    "    prob = np.mean((diffs > a) & (diffs < b))\n",
    "    return prob"
   ]
  },
  {
   "cell_type": "code",
   "execution_count": 11,
   "id": "03a07fde",
   "metadata": {},
   "outputs": [],
   "source": [
    "# Exercise 15: bootstrap var of sample variance\n",
    "def solve_ex15(vals, reps=5000):\n",
    "    arr = np.array(vals)\n",
    "    # sample variance function\n",
    "    def var1(x): return x.var(ddof=1)\n",
    "    bs_s2 = get_bootstrap(arr, var1, reps)\n",
    "    # return variance of the s2 replicates\n",
    "    return bs_s2.var(ddof=1)"
   ]
  },
  {
   "cell_type": "code",
   "execution_count": 12,
   "id": "a44caf3d",
   "metadata": {},
   "outputs": [],
   "source": [
    "# Exercise 3: Pareto sample, get mean & median precision\n",
    "def solve_ex3(n=200, beta=1, alpha=1.05, reps=5000):\n",
    "    # numpy.pareto gives Y ~ Pareto(alpha) on (0, inf), so shift+scale\n",
    "    Y = np.random.pareto(alpha, size=n)\n",
    "    X = beta * (1 + Y)\n",
    "\n",
    "    mean_val = X.mean()\n",
    "    med_val = np.median(X)\n",
    "\n",
    "    bs_means = get_bootstrap(X, np.mean, reps)\n",
    "    bs_meds = get_bootstrap(X, np.median, reps)\n",
    "    var_mean = bs_means.var(ddof=1)\n",
    "    var_med = bs_meds.var(ddof=1)\n",
    "\n",
    "    return {\n",
    "        'mean': mean_val,\n",
    "        'median': med_val,\n",
    "        'var_mean_bs': var_mean,\n",
    "        'var_med_bs': var_med,\n",
    "        'bs_means': bs_means,\n",
    "        'bs_meds': bs_meds\n",
    "    }"
   ]
  },
  {
   "cell_type": "code",
   "execution_count": 13,
   "id": "6143912f",
   "metadata": {},
   "outputs": [
    {
     "name": "stdout",
     "output_type": "stream",
     "text": [
      "[Ex13] Estimated P = 0.768\n",
      "[Ex15] Bootstrap Var(S^2) ≈ 59.4683\n",
      "[Ex3] Pareto sample stats:\n",
      "  Mean = 4.2538, Median = 1.9175\n",
      "  BS Var(mean) = 0.502776\n",
      "  BS Var(med)  = 0.018311\n",
      "  => Median more precise (smaller bootstrap var)\n"
     ]
    }
   ],
   "source": [
    "np.random.seed(42)\n",
    "\n",
    "# Ex 13 data\n",
    "data13 = [56, 101, 78, 67, 93, 87, 64, 72, 80, 69]\n",
    "p_est = solve_ex13(data13, a=-5, b=5)\n",
    "print(f\"[Ex13] Estimated P = {p_est:.3f}\")\n",
    "\n",
    "# Ex 15 data\n",
    "data15 = [5,4,9,6,21,17,11,20,7,10,21,15,13,16,8]\n",
    "var_s2 = solve_ex15(data15)\n",
    "print(f\"[Ex15] Bootstrap Var(S^2) ≈ {var_s2:.4f}\")\n",
    "\n",
    "# Ex 3 simulation\n",
    "res3 = solve_ex3(n=200, beta=1, alpha=1.05)\n",
    "print(\"[Ex3] Pareto sample stats:\")\n",
    "print(f\"  Mean = {res3['mean']:.4f}, Median = {res3['median']:.4f}\")\n",
    "print(f\"  BS Var(mean) = {res3['var_mean_bs']:.6f}\")\n",
    "print(f\"  BS Var(med)  = {res3['var_med_bs']:.6f}\")\n",
    "\n",
    "# compare precision\n",
    "better = 'mean' if res3['var_mean_bs'] < res3['var_med_bs'] else 'median'\n",
    "print(f\"  => {better.capitalize()} more precise (smaller bootstrap var)\")"
   ]
  }
 ],
 "metadata": {
  "kernelspec": {
   "display_name": "Python 3",
   "language": "python",
   "name": "python3"
  },
  "language_info": {
   "codemirror_mode": {
    "name": "ipython",
    "version": 3
   },
   "file_extension": ".py",
   "mimetype": "text/x-python",
   "name": "python",
   "nbconvert_exporter": "python",
   "pygments_lexer": "ipython3",
   "version": "3.12.10"
  }
 },
 "nbformat": 4,
 "nbformat_minor": 5
}
