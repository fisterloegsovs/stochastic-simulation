{
 "cells": [
  {
   "cell_type": "markdown",
   "id": "aa3701c9",
   "metadata": {},
   "source": [
    "# Exercise 4"
   ]
  },
  {
   "cell_type": "code",
   "execution_count": 12,
   "id": "786f8d58",
   "metadata": {},
   "outputs": [],
   "source": [
    "import math\n",
    "import numpy as np\n",
    "import heapq\n",
    "import scipy.stats as stats\n",
    "import matplotlib.pyplot as plt\n"
   ]
  },
  {
   "cell_type": "code",
   "execution_count": 13,
   "id": "011dcde5",
   "metadata": {},
   "outputs": [],
   "source": [
    "def simulate_blocking(ia_times, service_times, m, n_customers):\n",
    "    busy = 0                 # current busy servers\n",
    "    blocked = 0              # count of blocked arrivals\n",
    "    t = 0.0                  # current time\n",
    "    departures = []          # min-heap of departure times\n",
    "    for i in range(n_customers):\n",
    "        t += ia_times[i]     # advance to next arrival\n",
    "        # free up servers for any departures before t\n",
    "        while departures and departures[0] <= t:\n",
    "            heapq.heappop(departures)\n",
    "            busy -= 1\n",
    "        # arrival: accept if free server, else block\n",
    "        if busy < m:\n",
    "            busy += 1\n",
    "            # schedule departure\n",
    "            heapq.heappush(departures, t + service_times[i])\n",
    "        else:\n",
    "            blocked += 1\n",
    "    return blocked / n_customers\n"
   ]
  },
  {
   "cell_type": "markdown",
   "id": "84bcc8d5",
   "metadata": {},
   "source": [
    "## Part 1\n"
   ]
  },
  {
   "cell_type": "code",
   "execution_count": 14,
   "id": "3c946dc6",
   "metadata": {},
   "outputs": [
    {
     "name": "stdout",
     "output_type": "stream",
     "text": [
      "Simulated blocking = 0.1227, 95% CI = [0.1183, 0.1271]\n",
      "Analytical Erlang B = 0.1217\n"
     ]
    }
   ],
   "source": [
    "# Erlang B formula\n",
    "def erlangB(A, m):\n",
    "    num = A**m / math.factorial(m)\n",
    "    den = sum(A**i / math.factorial(i) for i in range(m+1))\n",
    "    return num/den\n",
    "\n",
    "m, mean_svc, A = 10, 8, 8\n",
    "R, N = 10, 10000  # replications and customers per rep\n",
    "results1 = []\n",
    "for _ in range(R):\n",
    "    ia = np.random.exponential(1, N)\n",
    "    svc = np.random.exponential(mean_svc, N)\n",
    "    results1.append(simulate_blocking(ia, svc, m, N))\n",
    "arr1 = np.array(results1)\n",
    "mean1 = arr1.mean()\n",
    "se1 = arr1.std(ddof=1)/np.sqrt(R)\n",
    "tval = stats.t.ppf(0.975, df=R-1)\n",
    "ci1 = (mean1 - tval*se1, mean1 + tval*se1)\n",
    "print(f\"Simulated blocking = {mean1:.4f}, 95% CI = [{ci1[0]:.4f}, {ci1[1]:.4f}]\")\n",
    "print(f\"Analytical Erlang B = {erlangB(A, m):.4f}\")"
   ]
  },
  {
   "cell_type": "markdown",
   "id": "c3db3281",
   "metadata": {},
   "source": [
    "## Part 2"
   ]
  },
  {
   "cell_type": "code",
   "execution_count": 15,
   "id": "2a80252d",
   "metadata": {},
   "outputs": [
    {
     "name": "stdout",
     "output_type": "stream",
     "text": [
      "Erlang(2): blocking=0.0931, CI=[0.0892,0.0969]\n",
      "Hyper-exp: blocking=0.1393, CI=[0.1357,0.1428]\n"
     ]
    }
   ],
   "source": [
    "def simulate_renewal(arrival_gen, label):\n",
    "    res = []\n",
    "    for _ in range(R):\n",
    "        ia = arrival_gen(N)\n",
    "        svc = np.random.exponential(mean_svc, N)\n",
    "        res.append(simulate_blocking(ia, svc, m, N))\n",
    "    arr = np.array(res)\n",
    "    mu, se = arr.mean(), arr.std(ddof=1)/np.sqrt(R)\n",
    "    ci = (mu - tval*se, mu + tval*se)\n",
    "    print(f\"{label}: blocking={mu:.4f}, CI=[{ci[0]:.4f},{ci[1]:.4f}]\")\n",
    "\n",
    "# Erlang shape=2\n",
    "simulate_renewal(lambda n: stats.gamma.rvs(2, scale=1/2, size=n), 'Erlang(2)')\n",
    "# Hyper-exponential\n",
    "def hyper_exp(n):\n",
    "    u = np.random.rand(n)\n",
    "    ia = np.empty(n)\n",
    "    ia[u<0.8] = np.random.exponential(1/0.8333, np.sum(u<0.8))\n",
    "    ia[u>=0.8] = np.random.exponential(1/5.0, np.sum(u>=0.8))\n",
    "    return ia\n",
    "simulate_renewal(hyper_exp, 'Hyper-exp')"
   ]
  },
  {
   "cell_type": "markdown",
   "id": "a49afee0",
   "metadata": {},
   "source": [
    "## Part 3"
   ]
  },
  {
   "cell_type": "code",
   "execution_count": 16,
   "id": "6b988d1c",
   "metadata": {},
   "outputs": [
    {
     "name": "stdout",
     "output_type": "stream",
     "text": [
      "Constant: blocking=0.1222, CI=[0.1195,0.1249]\n",
      "Pareto k=1.05: blocking=0.0016, CI=[0.0008,0.0024]\n",
      "Pareto k=2.05: blocking=0.1211, CI=[0.1175,0.1247]\n",
      "Uniform(0,16): blocking=0.1193, CI=[0.1151,0.1235]\n"
     ]
    }
   ],
   "source": [
    "def run_service_experiment(gen_svc, label):\n",
    "    res = []\n",
    "    for _ in range(R):\n",
    "        ia = np.random.exponential(1, N)\n",
    "        svc = gen_svc(N)\n",
    "        res.append(simulate_blocking(ia, svc, m, N))\n",
    "    arr = np.array(res)\n",
    "    mu, se = arr.mean(), arr.std(ddof=1)/np.sqrt(R)\n",
    "    ci = (mu - tval*se, mu + tval*se)\n",
    "    print(f\"{label}: blocking={mu:.4f}, CI=[{ci[0]:.4f},{ci[1]:.4f}]\")\n",
    "\n",
    "# constant\n",
    "run_service_experiment(lambda n: np.full(n, mean_svc), 'Constant')\n",
    "# Pareto helper\n",
    "def pareto_gen(n, k):\n",
    "    xm = (k-1)/k * mean_svc\n",
    "    return stats.pareto.rvs(k, scale=xm, size=n)\n",
    "run_service_experiment(lambda n: pareto_gen(n, 1.05), 'Pareto k=1.05')\n",
    "run_service_experiment(lambda n: pareto_gen(n, 2.05), 'Pareto k=2.05')\n",
    "# uniform\n",
    "run_service_experiment(lambda n: np.random.rand(n)*16, 'Uniform(0,16)')"
   ]
  },
  {
   "cell_type": "markdown",
   "id": "ff867b09",
   "metadata": {},
   "source": [
    "## Part 4: Comparison of Confidence Intervals\n",
    "Differences arise because arrival/service variability affects both blocking probability and its sampling variability:\n",
    "- Lower variability (Erlang arrivals, constant service) leads to tighter CIs.\n",
    "- Higher variability (hyper-exp arrivals, heavy-tailed Pareto) leads to wider CIs and usually higher blocking.\n"
   ]
  }
 ],
 "metadata": {
  "kernelspec": {
   "display_name": "Python 3",
   "language": "python",
   "name": "python3"
  },
  "language_info": {
   "codemirror_mode": {
    "name": "ipython",
    "version": 3
   },
   "file_extension": ".py",
   "mimetype": "text/x-python",
   "name": "python",
   "nbconvert_exporter": "python",
   "pygments_lexer": "ipython3",
   "version": "3.12.10"
  }
 },
 "nbformat": 4,
 "nbformat_minor": 5
}
